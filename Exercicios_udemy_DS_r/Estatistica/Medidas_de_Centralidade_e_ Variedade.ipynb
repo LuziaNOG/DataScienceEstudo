{
 "cells": [
  {
   "cell_type": "code",
   "execution_count": 1,
   "metadata": {},
   "outputs": [],
   "source": [
    "salarios = c(2000,1000,4000, 5500)"
   ]
  },
  {
   "cell_type": "code",
   "execution_count": 2,
   "metadata": {},
   "outputs": [
    {
     "data": {
      "text/html": [
       "3125"
      ],
      "text/latex": [
       "3125"
      ],
      "text/markdown": [
       "3125"
      ],
      "text/plain": [
       "[1] 3125"
      ]
     },
     "metadata": {},
     "output_type": "display_data"
    }
   ],
   "source": [
    "mean(salarios)"
   ]
  },
  {
   "cell_type": "code",
   "execution_count": 3,
   "metadata": {},
   "outputs": [
    {
     "data": {
      "text/html": [
       "3000"
      ],
      "text/latex": [
       "3000"
      ],
      "text/markdown": [
       "3000"
      ],
      "text/plain": [
       "[1] 3000"
      ]
     },
     "metadata": {},
     "output_type": "display_data"
    }
   ],
   "source": [
    "median(salarios)"
   ]
  },
  {
   "cell_type": "code",
   "execution_count": 4,
   "metadata": {},
   "outputs": [
    {
     "data": {
      "text/html": [
       "<dl class=dl-horizontal>\n",
       "\t<dt>0%</dt>\n",
       "\t\t<dd>1000</dd>\n",
       "\t<dt>25%</dt>\n",
       "\t\t<dd>1750</dd>\n",
       "\t<dt>50%</dt>\n",
       "\t\t<dd>3000</dd>\n",
       "\t<dt>75%</dt>\n",
       "\t\t<dd>4375</dd>\n",
       "\t<dt>100%</dt>\n",
       "\t\t<dd>5500</dd>\n",
       "</dl>\n"
      ],
      "text/latex": [
       "\\begin{description*}\n",
       "\\item[0\\textbackslash{}\\%] 1000\n",
       "\\item[25\\textbackslash{}\\%] 1750\n",
       "\\item[50\\textbackslash{}\\%] 3000\n",
       "\\item[75\\textbackslash{}\\%] 4375\n",
       "\\item[100\\textbackslash{}\\%] 5500\n",
       "\\end{description*}\n"
      ],
      "text/markdown": [
       "0%\n",
       ":   100025%\n",
       ":   175050%\n",
       ":   300075%\n",
       ":   4375100%\n",
       ":   5500\n",
       "\n"
      ],
      "text/plain": [
       "  0%  25%  50%  75% 100% \n",
       "1000 1750 3000 4375 5500 "
      ]
     },
     "metadata": {},
     "output_type": "display_data"
    }
   ],
   "source": [
    "quantile(salarios)"
   ]
  },
  {
   "cell_type": "code",
   "execution_count": 6,
   "metadata": {},
   "outputs": [
    {
     "data": {
      "text/html": [
       "2015.56443707464"
      ],
      "text/latex": [
       "2015.56443707464"
      ],
      "text/markdown": [
       "2015.56443707464"
      ],
      "text/plain": [
       "[1] 2015.564"
      ]
     },
     "metadata": {},
     "output_type": "display_data"
    }
   ],
   "source": [
    "sd(salarios) # desvio padrão"
   ]
  },
  {
   "cell_type": "code",
   "execution_count": 7,
   "metadata": {},
   "outputs": [
    {
     "data": {
      "text/plain": [
       "   Min. 1st Qu.  Median    Mean 3rd Qu.    Max. \n",
       "   1000    1750    3000    3125    4375    5500 "
      ]
     },
     "metadata": {},
     "output_type": "display_data"
    }
   ],
   "source": [
    "summary(salarios)"
   ]
  },
  {
   "cell_type": "code",
   "execution_count": null,
   "metadata": {},
   "outputs": [],
   "source": []
  }
 ],
 "metadata": {
  "kernelspec": {
   "display_name": "R",
   "language": "R",
   "name": "ir"
  },
  "language_info": {
   "codemirror_mode": "r",
   "file_extension": ".r",
   "mimetype": "text/x-r-source",
   "name": "R",
   "pygments_lexer": "r",
   "version": "3.6.1"
  }
 },
 "nbformat": 4,
 "nbformat_minor": 4
}
