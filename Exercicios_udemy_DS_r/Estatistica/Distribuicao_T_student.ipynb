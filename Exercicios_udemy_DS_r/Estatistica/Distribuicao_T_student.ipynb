{
 "cells": [
  {
   "cell_type": "markdown",
   "metadata": {},
   "source": [
    "Problema: Salarios dos cientistas é de 75,00 por hr . Amostra de 9 cientista e desvio padrão 10. Qual a probabilidade e o salario ser menos que 80,00/hr?\n",
    "t=1.5 ((valor buscado - valor da media)/ desvio padrão / raiz da amostra) ex : (80-75)/ 10/raiz de 9), e graus de liberdade (tamanho da amostra - 1)"
   ]
  },
  {
   "cell_type": "code",
   "execution_count": 4,
   "metadata": {},
   "outputs": [
    {
     "data": {
      "text/html": [
       "91.3998354024044"
      ],
      "text/latex": [
       "91.3998354024044"
      ],
      "text/markdown": [
       "91.3998354024044"
      ],
      "text/plain": [
       "[1] 91.39984"
      ]
     },
     "metadata": {},
     "output_type": "display_data"
    }
   ],
   "source": [
    "pt(1.5,8)*100 # multiplica por 100 para dar  valor em porcentagem"
   ]
  },
  {
   "cell_type": "code",
   "execution_count": 6,
   "metadata": {},
   "outputs": [
    {
     "data": {
      "text/html": [
       "8.60016459759557"
      ],
      "text/latex": [
       "8.60016459759557"
      ],
      "text/markdown": [
       "8.60016459759557"
      ],
      "text/plain": [
       "[1] 8.600165"
      ]
     },
     "metadata": {},
     "output_type": "display_data"
    }
   ],
   "source": [
    "#Propabilidade de ser maior\n",
    "pt(1.5,8,lower.tail = F) * 100"
   ]
  }
 ],
 "metadata": {
  "kernelspec": {
   "display_name": "R",
   "language": "R",
   "name": "ir"
  },
  "language_info": {
   "codemirror_mode": "r",
   "file_extension": ".r",
   "mimetype": "text/x-r-source",
   "name": "R",
   "pygments_lexer": "r",
   "version": "3.6.1"
  }
 },
 "nbformat": 4,
 "nbformat_minor": 4
}
