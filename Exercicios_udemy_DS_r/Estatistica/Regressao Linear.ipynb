{
 "cells": [
  {
   "cell_type": "markdown",
   "metadata": {},
   "source": [
    "# Regressao linear simples"
   ]
  },
  {
   "cell_type": "markdown",
   "metadata": {},
   "source": [
    "Linear simples = usa uma columa de valores (variaveis explanatorias) para prever as variaveis dependentes,Linear multipla = usa varias colunas calculando a relação delas com as que devem ser prevista."
   ]
  },
  {
   "cell_type": "code",
   "execution_count": 2,
   "metadata": {},
   "outputs": [],
   "source": [
    "#install.packages(\"corrgram\")"
   ]
  },
  {
   "cell_type": "code",
   "execution_count": 4,
   "metadata": {},
   "outputs": [
    {
     "name": "stderr",
     "output_type": "stream",
     "text": [
      "Registered S3 methods overwritten by 'ggplot2':\n",
      "  method         from \n",
      "  [.quosures     rlang\n",
      "  c.quosures     rlang\n",
      "  print.quosures rlang\n",
      "Registered S3 method overwritten by 'seriation':\n",
      "  method         from \n",
      "  reorder.hclust gclus\n"
     ]
    }
   ],
   "source": [
    "library(corrgram)"
   ]
  },
  {
   "cell_type": "code",
   "execution_count": 6,
   "metadata": {},
   "outputs": [
    {
     "data": {
      "text/html": [
       "<table>\n",
       "<thead><tr><th scope=col>speed</th><th scope=col>dist</th></tr></thead>\n",
       "<tbody>\n",
       "\t<tr><td> 4 </td><td>  2</td></tr>\n",
       "\t<tr><td> 4 </td><td> 10</td></tr>\n",
       "\t<tr><td> 7 </td><td>  4</td></tr>\n",
       "\t<tr><td> 7 </td><td> 22</td></tr>\n",
       "\t<tr><td> 8 </td><td> 16</td></tr>\n",
       "\t<tr><td> 9 </td><td> 10</td></tr>\n",
       "\t<tr><td>10 </td><td> 18</td></tr>\n",
       "\t<tr><td>10 </td><td> 26</td></tr>\n",
       "\t<tr><td>10 </td><td> 34</td></tr>\n",
       "\t<tr><td>11 </td><td> 17</td></tr>\n",
       "\t<tr><td>11 </td><td> 28</td></tr>\n",
       "\t<tr><td>12 </td><td> 14</td></tr>\n",
       "\t<tr><td>12 </td><td> 20</td></tr>\n",
       "\t<tr><td>12 </td><td> 24</td></tr>\n",
       "\t<tr><td>12 </td><td> 28</td></tr>\n",
       "\t<tr><td>13 </td><td> 26</td></tr>\n",
       "\t<tr><td>13 </td><td> 34</td></tr>\n",
       "\t<tr><td>13 </td><td> 34</td></tr>\n",
       "\t<tr><td>13 </td><td> 46</td></tr>\n",
       "\t<tr><td>14 </td><td> 26</td></tr>\n",
       "\t<tr><td>14 </td><td> 36</td></tr>\n",
       "\t<tr><td>14 </td><td> 60</td></tr>\n",
       "\t<tr><td>14 </td><td> 80</td></tr>\n",
       "\t<tr><td>15 </td><td> 20</td></tr>\n",
       "\t<tr><td>15 </td><td> 26</td></tr>\n",
       "\t<tr><td>15 </td><td> 54</td></tr>\n",
       "\t<tr><td>16 </td><td> 32</td></tr>\n",
       "\t<tr><td>16 </td><td> 40</td></tr>\n",
       "\t<tr><td>17 </td><td> 32</td></tr>\n",
       "\t<tr><td>17 </td><td> 40</td></tr>\n",
       "\t<tr><td>17 </td><td> 50</td></tr>\n",
       "\t<tr><td>18 </td><td> 42</td></tr>\n",
       "\t<tr><td>18 </td><td> 56</td></tr>\n",
       "\t<tr><td>18 </td><td> 76</td></tr>\n",
       "\t<tr><td>18 </td><td> 84</td></tr>\n",
       "\t<tr><td>19 </td><td> 36</td></tr>\n",
       "\t<tr><td>19 </td><td> 46</td></tr>\n",
       "\t<tr><td>19 </td><td> 68</td></tr>\n",
       "\t<tr><td>20 </td><td> 32</td></tr>\n",
       "\t<tr><td>20 </td><td> 48</td></tr>\n",
       "\t<tr><td>20 </td><td> 52</td></tr>\n",
       "\t<tr><td>20 </td><td> 56</td></tr>\n",
       "\t<tr><td>20 </td><td> 64</td></tr>\n",
       "\t<tr><td>22 </td><td> 66</td></tr>\n",
       "\t<tr><td>23 </td><td> 54</td></tr>\n",
       "\t<tr><td>24 </td><td> 70</td></tr>\n",
       "\t<tr><td>24 </td><td> 92</td></tr>\n",
       "\t<tr><td>24 </td><td> 93</td></tr>\n",
       "\t<tr><td>24 </td><td>120</td></tr>\n",
       "\t<tr><td>25 </td><td> 85</td></tr>\n",
       "</tbody>\n",
       "</table>\n"
      ],
      "text/latex": [
       "\\begin{tabular}{r|ll}\n",
       " speed & dist\\\\\n",
       "\\hline\n",
       "\t  4  &   2\\\\\n",
       "\t  4  &  10\\\\\n",
       "\t  7  &   4\\\\\n",
       "\t  7  &  22\\\\\n",
       "\t  8  &  16\\\\\n",
       "\t  9  &  10\\\\\n",
       "\t 10  &  18\\\\\n",
       "\t 10  &  26\\\\\n",
       "\t 10  &  34\\\\\n",
       "\t 11  &  17\\\\\n",
       "\t 11  &  28\\\\\n",
       "\t 12  &  14\\\\\n",
       "\t 12  &  20\\\\\n",
       "\t 12  &  24\\\\\n",
       "\t 12  &  28\\\\\n",
       "\t 13  &  26\\\\\n",
       "\t 13  &  34\\\\\n",
       "\t 13  &  34\\\\\n",
       "\t 13  &  46\\\\\n",
       "\t 14  &  26\\\\\n",
       "\t 14  &  36\\\\\n",
       "\t 14  &  60\\\\\n",
       "\t 14  &  80\\\\\n",
       "\t 15  &  20\\\\\n",
       "\t 15  &  26\\\\\n",
       "\t 15  &  54\\\\\n",
       "\t 16  &  32\\\\\n",
       "\t 16  &  40\\\\\n",
       "\t 17  &  32\\\\\n",
       "\t 17  &  40\\\\\n",
       "\t 17  &  50\\\\\n",
       "\t 18  &  42\\\\\n",
       "\t 18  &  56\\\\\n",
       "\t 18  &  76\\\\\n",
       "\t 18  &  84\\\\\n",
       "\t 19  &  36\\\\\n",
       "\t 19  &  46\\\\\n",
       "\t 19  &  68\\\\\n",
       "\t 20  &  32\\\\\n",
       "\t 20  &  48\\\\\n",
       "\t 20  &  52\\\\\n",
       "\t 20  &  56\\\\\n",
       "\t 20  &  64\\\\\n",
       "\t 22  &  66\\\\\n",
       "\t 23  &  54\\\\\n",
       "\t 24  &  70\\\\\n",
       "\t 24  &  92\\\\\n",
       "\t 24  &  93\\\\\n",
       "\t 24  & 120\\\\\n",
       "\t 25  &  85\\\\\n",
       "\\end{tabular}\n"
      ],
      "text/markdown": [
       "\n",
       "| speed | dist |\n",
       "|---|---|\n",
       "|  4  |   2 |\n",
       "|  4  |  10 |\n",
       "|  7  |   4 |\n",
       "|  7  |  22 |\n",
       "|  8  |  16 |\n",
       "|  9  |  10 |\n",
       "| 10  |  18 |\n",
       "| 10  |  26 |\n",
       "| 10  |  34 |\n",
       "| 11  |  17 |\n",
       "| 11  |  28 |\n",
       "| 12  |  14 |\n",
       "| 12  |  20 |\n",
       "| 12  |  24 |\n",
       "| 12  |  28 |\n",
       "| 13  |  26 |\n",
       "| 13  |  34 |\n",
       "| 13  |  34 |\n",
       "| 13  |  46 |\n",
       "| 14  |  26 |\n",
       "| 14  |  36 |\n",
       "| 14  |  60 |\n",
       "| 14  |  80 |\n",
       "| 15  |  20 |\n",
       "| 15  |  26 |\n",
       "| 15  |  54 |\n",
       "| 16  |  32 |\n",
       "| 16  |  40 |\n",
       "| 17  |  32 |\n",
       "| 17  |  40 |\n",
       "| 17  |  50 |\n",
       "| 18  |  42 |\n",
       "| 18  |  56 |\n",
       "| 18  |  76 |\n",
       "| 18  |  84 |\n",
       "| 19  |  36 |\n",
       "| 19  |  46 |\n",
       "| 19  |  68 |\n",
       "| 20  |  32 |\n",
       "| 20  |  48 |\n",
       "| 20  |  52 |\n",
       "| 20  |  56 |\n",
       "| 20  |  64 |\n",
       "| 22  |  66 |\n",
       "| 23  |  54 |\n",
       "| 24  |  70 |\n",
       "| 24  |  92 |\n",
       "| 24  |  93 |\n",
       "| 24  | 120 |\n",
       "| 25  |  85 |\n",
       "\n"
      ],
      "text/plain": [
       "   speed dist\n",
       "1   4      2 \n",
       "2   4     10 \n",
       "3   7      4 \n",
       "4   7     22 \n",
       "5   8     16 \n",
       "6   9     10 \n",
       "7  10     18 \n",
       "8  10     26 \n",
       "9  10     34 \n",
       "10 11     17 \n",
       "11 11     28 \n",
       "12 12     14 \n",
       "13 12     20 \n",
       "14 12     24 \n",
       "15 12     28 \n",
       "16 13     26 \n",
       "17 13     34 \n",
       "18 13     34 \n",
       "19 13     46 \n",
       "20 14     26 \n",
       "21 14     36 \n",
       "22 14     60 \n",
       "23 14     80 \n",
       "24 15     20 \n",
       "25 15     26 \n",
       "26 15     54 \n",
       "27 16     32 \n",
       "28 16     40 \n",
       "29 17     32 \n",
       "30 17     40 \n",
       "31 17     50 \n",
       "32 18     42 \n",
       "33 18     56 \n",
       "34 18     76 \n",
       "35 18     84 \n",
       "36 19     36 \n",
       "37 19     46 \n",
       "38 19     68 \n",
       "39 20     32 \n",
       "40 20     48 \n",
       "41 20     52 \n",
       "42 20     56 \n",
       "43 20     64 \n",
       "44 22     66 \n",
       "45 23     54 \n",
       "46 24     70 \n",
       "47 24     92 \n",
       "48 24     93 \n",
       "49 24    120 \n",
       "50 25     85 "
      ]
     },
     "metadata": {},
     "output_type": "display_data"
    }
   ],
   "source": [
    "cars # dataset de relação entre velocidade e distancia"
   ]
  },
  {
   "cell_type": "code",
   "execution_count": 7,
   "metadata": {},
   "outputs": [
    {
     "data": {
      "text/html": [
       "<table>\n",
       "<thead><tr><th></th><th scope=col>speed</th><th scope=col>dist</th></tr></thead>\n",
       "<tbody>\n",
       "\t<tr><th scope=row>speed</th><td>1.0000000</td><td>0.8068949</td></tr>\n",
       "\t<tr><th scope=row>dist</th><td>0.8068949</td><td>1.0000000</td></tr>\n",
       "</tbody>\n",
       "</table>\n"
      ],
      "text/latex": [
       "\\begin{tabular}{r|ll}\n",
       "  & speed & dist\\\\\n",
       "\\hline\n",
       "\tspeed & 1.0000000 & 0.8068949\\\\\n",
       "\tdist & 0.8068949 & 1.0000000\\\\\n",
       "\\end{tabular}\n"
      ],
      "text/markdown": [
       "\n",
       "| <!--/--> | speed | dist |\n",
       "|---|---|---|\n",
       "| speed | 1.0000000 | 0.8068949 |\n",
       "| dist | 0.8068949 | 1.0000000 |\n",
       "\n"
      ],
      "text/plain": [
       "      speed     dist     \n",
       "speed 1.0000000 0.8068949\n",
       "dist  0.8068949 1.0000000"
      ]
     },
     "metadata": {},
     "output_type": "display_data"
    }
   ],
   "source": [
    "cor (cars) # correlaçao entre as colunas"
   ]
  },
  {
   "cell_type": "code",
   "execution_count": 8,
   "metadata": {},
   "outputs": [],
   "source": [
    "modelo = lm (speed ~ dist, data= cars) # instanciando o modelo"
   ]
  },
  {
   "cell_type": "code",
   "execution_count": 11,
   "metadata": {},
   "outputs": [
    {
     "data": {
      "image/png": "[encoded data removed]",
      "text/plain": [
       "Plot with title “Carros”"
      ]
     },
     "metadata": {},
     "output_type": "display_data"
    }
   ],
   "source": [
    "plot(speed ~ dist, data = cars, ylab = \"Velocidade\", xlab = \"Distancia\", main = \"Carros\")\n",
    "abline(modelo) # gera a linha do modelo"
   ]
  },
  {
   "cell_type": "code",
   "execution_count": 12,
   "metadata": {},
   "outputs": [
    {
     "data": {
      "text/html": [
       "<strong>1:</strong> 11,9263922839622"
      ],
      "text/latex": [
       "\\textbf{1:} 11,9263922839622"
      ],
      "text/markdown": [
       "**1:** 11,9263922839622"
      ],
      "text/plain": [
       "       1 \n",
       "11,92639 "
      ]
     },
     "metadata": {},
     "output_type": "display_data"
    }
   ],
   "source": [
    "predict(modelo, data.frame(dist=22)) # fazer a previsao da velocidade de uma distancia de 22"
   ]
  },
  {
   "cell_type": "code",
   "execution_count": 13,
   "metadata": {},
   "outputs": [
    {
     "data": {
      "text/html": [
       "<strong>1:</strong> 29,8076903455486"
      ],
      "text/latex": [
       "\\textbf{1:} 29,8076903455486"
      ],
      "text/markdown": [
       "**1:** 29,8076903455486"
      ],
      "text/plain": [
       "       1 \n",
       "29,80769 "
      ]
     },
     "metadata": {},
     "output_type": "display_data"
    }
   ],
   "source": [
    "predict(modelo, data.frame(dist=130)) # fazer a previsao da velocidade de uma distancia de 130 (valor desconhecido)"
   ]
  },
  {
   "cell_type": "markdown",
   "metadata": {},
   "source": [
    "# Regressao linear multiplas "
   ]
  },
  {
   "cell_type": "code",
   "execution_count": 17,
   "metadata": {},
   "outputs": [
    {
     "data": {
      "text/html": [
       "<table>\n",
       "<thead><tr><th></th><th scope=col>mpg</th><th scope=col>cyl</th><th scope=col>disp</th><th scope=col>hp</th><th scope=col>drat</th><th scope=col>wt</th><th scope=col>qsec</th><th scope=col>vs</th><th scope=col>am</th><th scope=col>gear</th><th scope=col>carb</th></tr></thead>\n",
       "<tbody>\n",
       "\t<tr><th scope=row>Mazda RX4</th><td>21,0 </td><td>6    </td><td>160,0</td><td>110  </td><td>3,90 </td><td>2,620</td><td>16,46</td><td>0    </td><td>1    </td><td>4    </td><td>4    </td></tr>\n",
       "\t<tr><th scope=row>Mazda RX4 Wag</th><td>21,0 </td><td>6    </td><td>160,0</td><td>110  </td><td>3,90 </td><td>2,875</td><td>17,02</td><td>0    </td><td>1    </td><td>4    </td><td>4    </td></tr>\n",
       "\t<tr><th scope=row>Datsun 710</th><td>22,8 </td><td>4    </td><td>108,0</td><td> 93  </td><td>3,85 </td><td>2,320</td><td>18,61</td><td>1    </td><td>1    </td><td>4    </td><td>1    </td></tr>\n",
       "\t<tr><th scope=row>Hornet 4 Drive</th><td>21,4 </td><td>6    </td><td>258,0</td><td>110  </td><td>3,08 </td><td>3,215</td><td>19,44</td><td>1    </td><td>0    </td><td>3    </td><td>1    </td></tr>\n",
       "\t<tr><th scope=row>Hornet Sportabout</th><td>18,7 </td><td>8    </td><td>360,0</td><td>175  </td><td>3,15 </td><td>3,440</td><td>17,02</td><td>0    </td><td>0    </td><td>3    </td><td>2    </td></tr>\n",
       "\t<tr><th scope=row>Valiant</th><td>18,1 </td><td>6    </td><td>225,0</td><td>105  </td><td>2,76 </td><td>3,460</td><td>20,22</td><td>1    </td><td>0    </td><td>3    </td><td>1    </td></tr>\n",
       "\t<tr><th scope=row>Duster 360</th><td>14,3 </td><td>8    </td><td>360,0</td><td>245  </td><td>3,21 </td><td>3,570</td><td>15,84</td><td>0    </td><td>0    </td><td>3    </td><td>4    </td></tr>\n",
       "\t<tr><th scope=row>Merc 240D</th><td>24,4 </td><td>4    </td><td>146,7</td><td> 62  </td><td>3,69 </td><td>3,190</td><td>20,00</td><td>1    </td><td>0    </td><td>4    </td><td>2    </td></tr>\n",
       "\t<tr><th scope=row>Merc 230</th><td>22,8 </td><td>4    </td><td>140,8</td><td> 95  </td><td>3,92 </td><td>3,150</td><td>22,90</td><td>1    </td><td>0    </td><td>4    </td><td>2    </td></tr>\n",
       "\t<tr><th scope=row>Merc 280</th><td>19,2 </td><td>6    </td><td>167,6</td><td>123  </td><td>3,92 </td><td>3,440</td><td>18,30</td><td>1    </td><td>0    </td><td>4    </td><td>4    </td></tr>\n",
       "\t<tr><th scope=row>Merc 280C</th><td>17,8 </td><td>6    </td><td>167,6</td><td>123  </td><td>3,92 </td><td>3,440</td><td>18,90</td><td>1    </td><td>0    </td><td>4    </td><td>4    </td></tr>\n",
       "\t<tr><th scope=row>Merc 450SE</th><td>16,4 </td><td>8    </td><td>275,8</td><td>180  </td><td>3,07 </td><td>4,070</td><td>17,40</td><td>0    </td><td>0    </td><td>3    </td><td>3    </td></tr>\n",
       "\t<tr><th scope=row>Merc 450SL</th><td>17,3 </td><td>8    </td><td>275,8</td><td>180  </td><td>3,07 </td><td>3,730</td><td>17,60</td><td>0    </td><td>0    </td><td>3    </td><td>3    </td></tr>\n",
       "\t<tr><th scope=row>Merc 450SLC</th><td>15,2 </td><td>8    </td><td>275,8</td><td>180  </td><td>3,07 </td><td>3,780</td><td>18,00</td><td>0    </td><td>0    </td><td>3    </td><td>3    </td></tr>\n",
       "\t<tr><th scope=row>Cadillac Fleetwood</th><td>10,4 </td><td>8    </td><td>472,0</td><td>205  </td><td>2,93 </td><td>5,250</td><td>17,98</td><td>0    </td><td>0    </td><td>3    </td><td>4    </td></tr>\n",
       "\t<tr><th scope=row>Lincoln Continental</th><td>10,4 </td><td>8    </td><td>460,0</td><td>215  </td><td>3,00 </td><td>5,424</td><td>17,82</td><td>0    </td><td>0    </td><td>3    </td><td>4    </td></tr>\n",
       "\t<tr><th scope=row>Chrysler Imperial</th><td>14,7 </td><td>8    </td><td>440,0</td><td>230  </td><td>3,23 </td><td>5,345</td><td>17,42</td><td>0    </td><td>0    </td><td>3    </td><td>4    </td></tr>\n",
       "\t<tr><th scope=row>Fiat 128</th><td>32,4 </td><td>4    </td><td> 78,7</td><td> 66  </td><td>4,08 </td><td>2,200</td><td>19,47</td><td>1    </td><td>1    </td><td>4    </td><td>1    </td></tr>\n",
       "\t<tr><th scope=row>Honda Civic</th><td>30,4 </td><td>4    </td><td> 75,7</td><td> 52  </td><td>4,93 </td><td>1,615</td><td>18,52</td><td>1    </td><td>1    </td><td>4    </td><td>2    </td></tr>\n",
       "\t<tr><th scope=row>Toyota Corolla</th><td>33,9 </td><td>4    </td><td> 71,1</td><td> 65  </td><td>4,22 </td><td>1,835</td><td>19,90</td><td>1    </td><td>1    </td><td>4    </td><td>1    </td></tr>\n",
       "\t<tr><th scope=row>Toyota Corona</th><td>21,5 </td><td>4    </td><td>120,1</td><td> 97  </td><td>3,70 </td><td>2,465</td><td>20,01</td><td>1    </td><td>0    </td><td>3    </td><td>1    </td></tr>\n",
       "\t<tr><th scope=row>Dodge Challenger</th><td>15,5 </td><td>8    </td><td>318,0</td><td>150  </td><td>2,76 </td><td>3,520</td><td>16,87</td><td>0    </td><td>0    </td><td>3    </td><td>2    </td></tr>\n",
       "\t<tr><th scope=row>AMC Javelin</th><td>15,2 </td><td>8    </td><td>304,0</td><td>150  </td><td>3,15 </td><td>3,435</td><td>17,30</td><td>0    </td><td>0    </td><td>3    </td><td>2    </td></tr>\n",
       "\t<tr><th scope=row>Camaro Z28</th><td>13,3 </td><td>8    </td><td>350,0</td><td>245  </td><td>3,73 </td><td>3,840</td><td>15,41</td><td>0    </td><td>0    </td><td>3    </td><td>4    </td></tr>\n",
       "\t<tr><th scope=row>Pontiac Firebird</th><td>19,2 </td><td>8    </td><td>400,0</td><td>175  </td><td>3,08 </td><td>3,845</td><td>17,05</td><td>0    </td><td>0    </td><td>3    </td><td>2    </td></tr>\n",
       "\t<tr><th scope=row>Fiat X1-9</th><td>27,3 </td><td>4    </td><td> 79,0</td><td> 66  </td><td>4,08 </td><td>1,935</td><td>18,90</td><td>1    </td><td>1    </td><td>4    </td><td>1    </td></tr>\n",
       "\t<tr><th scope=row>Porsche 914-2</th><td>26,0 </td><td>4    </td><td>120,3</td><td> 91  </td><td>4,43 </td><td>2,140</td><td>16,70</td><td>0    </td><td>1    </td><td>5    </td><td>2    </td></tr>\n",
       "\t<tr><th scope=row>Lotus Europa</th><td>30,4 </td><td>4    </td><td> 95,1</td><td>113  </td><td>3,77 </td><td>1,513</td><td>16,90</td><td>1    </td><td>1    </td><td>5    </td><td>2    </td></tr>\n",
       "\t<tr><th scope=row>Ford Pantera L</th><td>15,8 </td><td>8    </td><td>351,0</td><td>264  </td><td>4,22 </td><td>3,170</td><td>14,50</td><td>0    </td><td>1    </td><td>5    </td><td>4    </td></tr>\n",
       "\t<tr><th scope=row>Ferrari Dino</th><td>19,7 </td><td>6    </td><td>145,0</td><td>175  </td><td>3,62 </td><td>2,770</td><td>15,50</td><td>0    </td><td>1    </td><td>5    </td><td>6    </td></tr>\n",
       "\t<tr><th scope=row>Maserati Bora</th><td>15,0 </td><td>8    </td><td>301,0</td><td>335  </td><td>3,54 </td><td>3,570</td><td>14,60</td><td>0    </td><td>1    </td><td>5    </td><td>8    </td></tr>\n",
       "\t<tr><th scope=row>Volvo 142E</th><td>21,4 </td><td>4    </td><td>121,0</td><td>109  </td><td>4,11 </td><td>2,780</td><td>18,60</td><td>1    </td><td>1    </td><td>4    </td><td>2    </td></tr>\n",
       "</tbody>\n",
       "</table>\n"
      ],
      "text/latex": [
       "\\begin{tabular}{r|lllllllllll}\n",
       "  & mpg & cyl & disp & hp & drat & wt & qsec & vs & am & gear & carb\\\\\n",
       "\\hline\n",
       "\tMazda RX4 & 21,0  & 6     & 160,0 & 110   & 3,90  & 2,620 & 16,46 & 0     & 1     & 4     & 4    \\\\\n",
       "\tMazda RX4 Wag & 21,0  & 6     & 160,0 & 110   & 3,90  & 2,875 & 17,02 & 0     & 1     & 4     & 4    \\\\\n",
       "\tDatsun 710 & 22,8  & 4     & 108,0 &  93   & 3,85  & 2,320 & 18,61 & 1     & 1     & 4     & 1    \\\\\n",
       "\tHornet 4 Drive & 21,4  & 6     & 258,0 & 110   & 3,08  & 3,215 & 19,44 & 1     & 0     & 3     & 1    \\\\\n",
       "\tHornet Sportabout & 18,7  & 8     & 360,0 & 175   & 3,15  & 3,440 & 17,02 & 0     & 0     & 3     & 2    \\\\\n",
       "\tValiant & 18,1  & 6     & 225,0 & 105   & 2,76  & 3,460 & 20,22 & 1     & 0     & 3     & 1    \\\\\n",
       "\tDuster 360 & 14,3  & 8     & 360,0 & 245   & 3,21  & 3,570 & 15,84 & 0     & 0     & 3     & 4    \\\\\n",
       "\tMerc 240D & 24,4  & 4     & 146,7 &  62   & 3,69  & 3,190 & 20,00 & 1     & 0     & 4     & 2    \\\\\n",
       "\tMerc 230 & 22,8  & 4     & 140,8 &  95   & 3,92  & 3,150 & 22,90 & 1     & 0     & 4     & 2    \\\\\n",
       "\tMerc 280 & 19,2  & 6     & 167,6 & 123   & 3,92  & 3,440 & 18,30 & 1     & 0     & 4     & 4    \\\\\n",
       "\tMerc 280C & 17,8  & 6     & 167,6 & 123   & 3,92  & 3,440 & 18,90 & 1     & 0     & 4     & 4    \\\\\n",
       "\tMerc 450SE & 16,4  & 8     & 275,8 & 180   & 3,07  & 4,070 & 17,40 & 0     & 0     & 3     & 3    \\\\\n",
       "\tMerc 450SL & 17,3  & 8     & 275,8 & 180   & 3,07  & 3,730 & 17,60 & 0     & 0     & 3     & 3    \\\\\n",
       "\tMerc 450SLC & 15,2  & 8     & 275,8 & 180   & 3,07  & 3,780 & 18,00 & 0     & 0     & 3     & 3    \\\\\n",
       "\tCadillac Fleetwood & 10,4  & 8     & 472,0 & 205   & 2,93  & 5,250 & 17,98 & 0     & 0     & 3     & 4    \\\\\n",
       "\tLincoln Continental & 10,4  & 8     & 460,0 & 215   & 3,00  & 5,424 & 17,82 & 0     & 0     & 3     & 4    \\\\\n",
       "\tChrysler Imperial & 14,7  & 8     & 440,0 & 230   & 3,23  & 5,345 & 17,42 & 0     & 0     & 3     & 4    \\\\\n",
       "\tFiat 128 & 32,4  & 4     &  78,7 &  66   & 4,08  & 2,200 & 19,47 & 1     & 1     & 4     & 1    \\\\\n",
       "\tHonda Civic & 30,4  & 4     &  75,7 &  52   & 4,93  & 1,615 & 18,52 & 1     & 1     & 4     & 2    \\\\\n",
       "\tToyota Corolla & 33,9  & 4     &  71,1 &  65   & 4,22  & 1,835 & 19,90 & 1     & 1     & 4     & 1    \\\\\n",
       "\tToyota Corona & 21,5  & 4     & 120,1 &  97   & 3,70  & 2,465 & 20,01 & 1     & 0     & 3     & 1    \\\\\n",
       "\tDodge Challenger & 15,5  & 8     & 318,0 & 150   & 2,76  & 3,520 & 16,87 & 0     & 0     & 3     & 2    \\\\\n",
       "\tAMC Javelin & 15,2  & 8     & 304,0 & 150   & 3,15  & 3,435 & 17,30 & 0     & 0     & 3     & 2    \\\\\n",
       "\tCamaro Z28 & 13,3  & 8     & 350,0 & 245   & 3,73  & 3,840 & 15,41 & 0     & 0     & 3     & 4    \\\\\n",
       "\tPontiac Firebird & 19,2  & 8     & 400,0 & 175   & 3,08  & 3,845 & 17,05 & 0     & 0     & 3     & 2    \\\\\n",
       "\tFiat X1-9 & 27,3  & 4     &  79,0 &  66   & 4,08  & 1,935 & 18,90 & 1     & 1     & 4     & 1    \\\\\n",
       "\tPorsche 914-2 & 26,0  & 4     & 120,3 &  91   & 4,43  & 2,140 & 16,70 & 0     & 1     & 5     & 2    \\\\\n",
       "\tLotus Europa & 30,4  & 4     &  95,1 & 113   & 3,77  & 1,513 & 16,90 & 1     & 1     & 5     & 2    \\\\\n",
       "\tFord Pantera L & 15,8  & 8     & 351,0 & 264   & 4,22  & 3,170 & 14,50 & 0     & 1     & 5     & 4    \\\\\n",
       "\tFerrari Dino & 19,7  & 6     & 145,0 & 175   & 3,62  & 2,770 & 15,50 & 0     & 1     & 5     & 6    \\\\\n",
       "\tMaserati Bora & 15,0  & 8     & 301,0 & 335   & 3,54  & 3,570 & 14,60 & 0     & 1     & 5     & 8    \\\\\n",
       "\tVolvo 142E & 21,4  & 4     & 121,0 & 109   & 4,11  & 2,780 & 18,60 & 1     & 1     & 4     & 2    \\\\\n",
       "\\end{tabular}\n"
      ],
      "text/markdown": [
       "\n",
       "| <!--/--> | mpg | cyl | disp | hp | drat | wt | qsec | vs | am | gear | carb |\n",
       "|---|---|---|---|---|---|---|---|---|---|---|---|\n",
       "| Mazda RX4 | 21,0  | 6     | 160,0 | 110   | 3,90  | 2,620 | 16,46 | 0     | 1     | 4     | 4     |\n",
       "| Mazda RX4 Wag | 21,0  | 6     | 160,0 | 110   | 3,90  | 2,875 | 17,02 | 0     | 1     | 4     | 4     |\n",
       "| Datsun 710 | 22,8  | 4     | 108,0 |  93   | 3,85  | 2,320 | 18,61 | 1     | 1     | 4     | 1     |\n",
       "| Hornet 4 Drive | 21,4  | 6     | 258,0 | 110   | 3,08  | 3,215 | 19,44 | 1     | 0     | 3     | 1     |\n",
       "| Hornet Sportabout | 18,7  | 8     | 360,0 | 175   | 3,15  | 3,440 | 17,02 | 0     | 0     | 3     | 2     |\n",
       "| Valiant | 18,1  | 6     | 225,0 | 105   | 2,76  | 3,460 | 20,22 | 1     | 0     | 3     | 1     |\n",
       "| Duster 360 | 14,3  | 8     | 360,0 | 245   | 3,21  | 3,570 | 15,84 | 0     | 0     | 3     | 4     |\n",
       "| Merc 240D | 24,4  | 4     | 146,7 |  62   | 3,69  | 3,190 | 20,00 | 1     | 0     | 4     | 2     |\n",
       "| Merc 230 | 22,8  | 4     | 140,8 |  95   | 3,92  | 3,150 | 22,90 | 1     | 0     | 4     | 2     |\n",
       "| Merc 280 | 19,2  | 6     | 167,6 | 123   | 3,92  | 3,440 | 18,30 | 1     | 0     | 4     | 4     |\n",
       "| Merc 280C | 17,8  | 6     | 167,6 | 123   | 3,92  | 3,440 | 18,90 | 1     | 0     | 4     | 4     |\n",
       "| Merc 450SE | 16,4  | 8     | 275,8 | 180   | 3,07  | 4,070 | 17,40 | 0     | 0     | 3     | 3     |\n",
       "| Merc 450SL | 17,3  | 8     | 275,8 | 180   | 3,07  | 3,730 | 17,60 | 0     | 0     | 3     | 3     |\n",
       "| Merc 450SLC | 15,2  | 8     | 275,8 | 180   | 3,07  | 3,780 | 18,00 | 0     | 0     | 3     | 3     |\n",
       "| Cadillac Fleetwood | 10,4  | 8     | 472,0 | 205   | 2,93  | 5,250 | 17,98 | 0     | 0     | 3     | 4     |\n",
       "| Lincoln Continental | 10,4  | 8     | 460,0 | 215   | 3,00  | 5,424 | 17,82 | 0     | 0     | 3     | 4     |\n",
       "| Chrysler Imperial | 14,7  | 8     | 440,0 | 230   | 3,23  | 5,345 | 17,42 | 0     | 0     | 3     | 4     |\n",
       "| Fiat 128 | 32,4  | 4     |  78,7 |  66   | 4,08  | 2,200 | 19,47 | 1     | 1     | 4     | 1     |\n",
       "| Honda Civic | 30,4  | 4     |  75,7 |  52   | 4,93  | 1,615 | 18,52 | 1     | 1     | 4     | 2     |\n",
       "| Toyota Corolla | 33,9  | 4     |  71,1 |  65   | 4,22  | 1,835 | 19,90 | 1     | 1     | 4     | 1     |\n",
       "| Toyota Corona | 21,5  | 4     | 120,1 |  97   | 3,70  | 2,465 | 20,01 | 1     | 0     | 3     | 1     |\n",
       "| Dodge Challenger | 15,5  | 8     | 318,0 | 150   | 2,76  | 3,520 | 16,87 | 0     | 0     | 3     | 2     |\n",
       "| AMC Javelin | 15,2  | 8     | 304,0 | 150   | 3,15  | 3,435 | 17,30 | 0     | 0     | 3     | 2     |\n",
       "| Camaro Z28 | 13,3  | 8     | 350,0 | 245   | 3,73  | 3,840 | 15,41 | 0     | 0     | 3     | 4     |\n",
       "| Pontiac Firebird | 19,2  | 8     | 400,0 | 175   | 3,08  | 3,845 | 17,05 | 0     | 0     | 3     | 2     |\n",
       "| Fiat X1-9 | 27,3  | 4     |  79,0 |  66   | 4,08  | 1,935 | 18,90 | 1     | 1     | 4     | 1     |\n",
       "| Porsche 914-2 | 26,0  | 4     | 120,3 |  91   | 4,43  | 2,140 | 16,70 | 0     | 1     | 5     | 2     |\n",
       "| Lotus Europa | 30,4  | 4     |  95,1 | 113   | 3,77  | 1,513 | 16,90 | 1     | 1     | 5     | 2     |\n",
       "| Ford Pantera L | 15,8  | 8     | 351,0 | 264   | 4,22  | 3,170 | 14,50 | 0     | 1     | 5     | 4     |\n",
       "| Ferrari Dino | 19,7  | 6     | 145,0 | 175   | 3,62  | 2,770 | 15,50 | 0     | 1     | 5     | 6     |\n",
       "| Maserati Bora | 15,0  | 8     | 301,0 | 335   | 3,54  | 3,570 | 14,60 | 0     | 1     | 5     | 8     |\n",
       "| Volvo 142E | 21,4  | 4     | 121,0 | 109   | 4,11  | 2,780 | 18,60 | 1     | 1     | 4     | 2     |\n",
       "\n"
      ],
      "text/plain": [
       "                    mpg  cyl disp  hp  drat wt    qsec  vs am gear carb\n",
       "Mazda RX4           21,0 6   160,0 110 3,90 2,620 16,46 0  1  4    4   \n",
       "Mazda RX4 Wag       21,0 6   160,0 110 3,90 2,875 17,02 0  1  4    4   \n",
       "Datsun 710          22,8 4   108,0  93 3,85 2,320 18,61 1  1  4    1   \n",
       "Hornet 4 Drive      21,4 6   258,0 110 3,08 3,215 19,44 1  0  3    1   \n",
       "Hornet Sportabout   18,7 8   360,0 175 3,15 3,440 17,02 0  0  3    2   \n",
       "Valiant             18,1 6   225,0 105 2,76 3,460 20,22 1  0  3    1   \n",
       "Duster 360          14,3 8   360,0 245 3,21 3,570 15,84 0  0  3    4   \n",
       "Merc 240D           24,4 4   146,7  62 3,69 3,190 20,00 1  0  4    2   \n",
       "Merc 230            22,8 4   140,8  95 3,92 3,150 22,90 1  0  4    2   \n",
       "Merc 280            19,2 6   167,6 123 3,92 3,440 18,30 1  0  4    4   \n",
       "Merc 280C           17,8 6   167,6 123 3,92 3,440 18,90 1  0  4    4   \n",
       "Merc 450SE          16,4 8   275,8 180 3,07 4,070 17,40 0  0  3    3   \n",
       "Merc 450SL          17,3 8   275,8 180 3,07 3,730 17,60 0  0  3    3   \n",
       "Merc 450SLC         15,2 8   275,8 180 3,07 3,780 18,00 0  0  3    3   \n",
       "Cadillac Fleetwood  10,4 8   472,0 205 2,93 5,250 17,98 0  0  3    4   \n",
       "Lincoln Continental 10,4 8   460,0 215 3,00 5,424 17,82 0  0  3    4   \n",
       "Chrysler Imperial   14,7 8   440,0 230 3,23 5,345 17,42 0  0  3    4   \n",
       "Fiat 128            32,4 4    78,7  66 4,08 2,200 19,47 1  1  4    1   \n",
       "Honda Civic         30,4 4    75,7  52 4,93 1,615 18,52 1  1  4    2   \n",
       "Toyota Corolla      33,9 4    71,1  65 4,22 1,835 19,90 1  1  4    1   \n",
       "Toyota Corona       21,5 4   120,1  97 3,70 2,465 20,01 1  0  3    1   \n",
       "Dodge Challenger    15,5 8   318,0 150 2,76 3,520 16,87 0  0  3    2   \n",
       "AMC Javelin         15,2 8   304,0 150 3,15 3,435 17,30 0  0  3    2   \n",
       "Camaro Z28          13,3 8   350,0 245 3,73 3,840 15,41 0  0  3    4   \n",
       "Pontiac Firebird    19,2 8   400,0 175 3,08 3,845 17,05 0  0  3    2   \n",
       "Fiat X1-9           27,3 4    79,0  66 4,08 1,935 18,90 1  1  4    1   \n",
       "Porsche 914-2       26,0 4   120,3  91 4,43 2,140 16,70 0  1  5    2   \n",
       "Lotus Europa        30,4 4    95,1 113 3,77 1,513 16,90 1  1  5    2   \n",
       "Ford Pantera L      15,8 8   351,0 264 4,22 3,170 14,50 0  1  5    4   \n",
       "Ferrari Dino        19,7 6   145,0 175 3,62 2,770 15,50 0  1  5    6   \n",
       "Maserati Bora       15,0 8   301,0 335 3,54 3,570 14,60 0  1  5    8   \n",
       "Volvo 142E          21,4 4   121,0 109 4,11 2,780 18,60 1  1  4    2   "
      ]
     },
     "metadata": {},
     "output_type": "display_data"
    }
   ],
   "source": [
    "# mpg: consumo, hp : cavalos, cyl : num de cilindros, disp: cilindradas\n",
    "mtcars"
   ]
  },
  {
   "cell_type": "code",
   "execution_count": 16,
   "metadata": {},
   "outputs": [
    {
     "data": {
      "text/html": [
       "<table>\n",
       "<thead><tr><th></th><th scope=col>mpg</th><th scope=col>cyl</th><th scope=col>disp</th><th scope=col>hp</th></tr></thead>\n",
       "<tbody>\n",
       "\t<tr><th scope=row>mpg</th><td> 1,0000000</td><td>-0,8521620</td><td>-0,8475514</td><td>-0,7761684</td></tr>\n",
       "\t<tr><th scope=row>cyl</th><td>-0,8521620</td><td> 1,0000000</td><td> 0,9020329</td><td> 0,8324475</td></tr>\n",
       "\t<tr><th scope=row>disp</th><td>-0,8475514</td><td> 0,9020329</td><td> 1,0000000</td><td> 0,7909486</td></tr>\n",
       "\t<tr><th scope=row>hp</th><td>-0,7761684</td><td> 0,8324475</td><td> 0,7909486</td><td> 1,0000000</td></tr>\n",
       "</tbody>\n",
       "</table>\n"
      ],
      "text/latex": [
       "\\begin{tabular}{r|llll}\n",
       "  & mpg & cyl & disp & hp\\\\\n",
       "\\hline\n",
       "\tmpg &  1,0000000 & -0,8521620 & -0,8475514 & -0,7761684\\\\\n",
       "\tcyl & -0,8521620 &  1,0000000 &  0,9020329 &  0,8324475\\\\\n",
       "\tdisp & -0,8475514 &  0,9020329 &  1,0000000 &  0,7909486\\\\\n",
       "\thp & -0,7761684 &  0,8324475 &  0,7909486 &  1,0000000\\\\\n",
       "\\end{tabular}\n"
      ],
      "text/markdown": [
       "\n",
       "| <!--/--> | mpg | cyl | disp | hp |\n",
       "|---|---|---|---|---|\n",
       "| mpg |  1,0000000 | -0,8521620 | -0,8475514 | -0,7761684 |\n",
       "| cyl | -0,8521620 |  1,0000000 |  0,9020329 |  0,8324475 |\n",
       "| disp | -0,8475514 |  0,9020329 |  1,0000000 |  0,7909486 |\n",
       "| hp | -0,7761684 |  0,8324475 |  0,7909486 |  1,0000000 |\n",
       "\n"
      ],
      "text/plain": [
       "     mpg        cyl        disp       hp        \n",
       "mpg   1,0000000 -0,8521620 -0,8475514 -0,7761684\n",
       "cyl  -0,8521620  1,0000000  0,9020329  0,8324475\n",
       "disp -0,8475514  0,9020329  1,0000000  0,7909486\n",
       "hp   -0,7761684  0,8324475  0,7909486  1,0000000"
      ]
     },
     "metadata": {},
     "output_type": "display_data"
    }
   ],
   "source": [
    "cor(mtcars[1:4])"
   ]
  },
  {
   "cell_type": "code",
   "execution_count": 20,
   "metadata": {},
   "outputs": [],
   "source": [
    "modelo1 = lm(mpg~disp,data=mtcars) # instanciando modelo simples para exemplo"
   ]
  },
  {
   "cell_type": "code",
   "execution_count": 21,
   "metadata": {},
   "outputs": [
    {
     "data": {
      "image/png": "[encoded data removed]",
      "text/plain": [
       "Plot with title “Carros”"
      ]
     },
     "metadata": {},
     "output_type": "display_data"
    }
   ],
   "source": [
    "# cilindradras vs consumo \n",
    "plot(mpg ~ disp, data = mtcars, ylab = \"Consumo\", xlab = \"Cilindradas\", main = \"Carros\")\n",
    "abline(modelo1)"
   ]
  },
  {
   "cell_type": "code",
   "execution_count": 23,
   "metadata": {},
   "outputs": [
    {
     "data": {
      "text/html": [
       "0,71834334048973"
      ],
      "text/latex": [
       "0,71834334048973"
      ],
      "text/markdown": [
       "0,71834334048973"
      ],
      "text/plain": [
       "[1] 0,7183433"
      ]
     },
     "metadata": {},
     "output_type": "display_data"
    }
   ],
   "source": [
    "summary(modelo1)$r.squared # coeficiente de determinação"
   ]
  },
  {
   "cell_type": "code",
   "execution_count": 25,
   "metadata": {},
   "outputs": [
    {
     "data": {
      "text/html": [
       "0,708954785172721"
      ],
      "text/latex": [
       "0,708954785172721"
      ],
      "text/markdown": [
       "0,708954785172721"
      ],
      "text/plain": [
       "[1] 0,7089548"
      ]
     },
     "metadata": {},
     "output_type": "display_data"
    }
   ],
   "source": [
    "summary(modelo1)$adj.r.squared # coeficiente de determinação ajustado"
   ]
  },
  {
   "cell_type": "code",
   "execution_count": 33,
   "metadata": {},
   "outputs": [
    {
     "data": {
      "text/html": [
       "<strong>1:</strong> 23,0054355621182"
      ],
      "text/latex": [
       "\\textbf{1:} 23,0054355621182"
      ],
      "text/markdown": [
       "**1:** 23,0054355621182"
      ],
      "text/plain": [
       "       1 \n",
       "23,00544 "
      ]
     },
     "metadata": {},
     "output_type": "display_data"
    }
   ],
   "source": [
    "predict(modelo1, data.frame(disp=160)) # previsão, 1 item da tabela"
   ]
  },
  {
   "cell_type": "code",
   "execution_count": 28,
   "metadata": {},
   "outputs": [],
   "source": [
    "# exemplo de regressão multipla\n",
    "modelo2 = lm(mpg ~ disp + hp + cyl, data=mtcars) # instanciando modelo"
   ]
  },
  {
   "cell_type": "code",
   "execution_count": 29,
   "metadata": {},
   "outputs": [
    {
     "data": {
      "text/html": [
       "0,767887744092864"
      ],
      "text/latex": [
       "0,767887744092864"
      ],
      "text/markdown": [
       "0,767887744092864"
      ],
      "text/plain": [
       "[1] 0,7678877"
      ]
     },
     "metadata": {},
     "output_type": "display_data"
    }
   ],
   "source": [
    "summary(modelo2)$r.squared # coeficiente de determinação"
   ]
  },
  {
   "cell_type": "code",
   "execution_count": 30,
   "metadata": {},
   "outputs": [
    {
     "data": {
      "text/html": [
       "0,743018573817099"
      ],
      "text/latex": [
       "0,743018573817099"
      ],
      "text/markdown": [
       "0,743018573817099"
      ],
      "text/plain": [
       "[1] 0,7430186"
      ]
     },
     "metadata": {},
     "output_type": "display_data"
    }
   ],
   "source": [
    "summary(modelo2)$adj.r.squared # coeficiente de determinação ajustado"
   ]
  },
  {
   "cell_type": "code",
   "execution_count": 35,
   "metadata": {},
   "outputs": [
    {
     "data": {
      "text/html": [
       "<strong>1:</strong> 22,1915790510817"
      ],
      "text/latex": [
       "\\textbf{1:} 22,1915790510817"
      ],
      "text/markdown": [
       "**1:** 22,1915790510817"
      ],
      "text/plain": [
       "       1 \n",
       "22,19158 "
      ]
     },
     "metadata": {},
     "output_type": "display_data"
    }
   ],
   "source": [
    "predict(modelo2, data.frame(disp=160,hp=110,cyl=6)) # previsão, 1 item da tabela, valor mais aproximado"
   ]
  }
 ],
 "metadata": {
  "kernelspec": {
   "display_name": "R",
   "language": "R",
   "name": "ir"
  },
  "language_info": {
   "codemirror_mode": "r",
   "file_extension": ".r",
   "mimetype": "text/x-r-source",
   "name": "R",
   "pygments_lexer": "r",
   "version": "3.6.1"
  }
 },
 "nbformat": 4,
 "nbformat_minor": 4
}
