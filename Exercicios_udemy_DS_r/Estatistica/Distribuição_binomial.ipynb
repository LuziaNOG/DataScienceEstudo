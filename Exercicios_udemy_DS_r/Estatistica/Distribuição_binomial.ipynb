{
 "cells": [
  {
   "cell_type": "markdown",
   "metadata": {},
   "source": [
    "Dbinom - propabilidade pontual\n",
    "pbinom - propabilidade acumulativa"
   ]
  },
  {
   "cell_type": "markdown",
   "metadata": {},
   "source": [
    "x= eventos, size= qtd de eventos, prob = propababilidade de ocorrer cada evento"
   ]
  },
  {
   "cell_type": "code",
   "execution_count": 1,
   "metadata": {},
   "outputs": [
    {
     "data": {
      "text/html": [
       "0.3125"
      ],
      "text/latex": [
       "0.3125"
      ],
      "text/markdown": [
       "0.3125"
      ],
      "text/plain": [
       "[1] 0.3125"
      ]
     },
     "metadata": {},
     "output_type": "display_data"
    }
   ],
   "source": [
    "# Ao jogar uma moeda 5 vezes, qual a propabilidade de dar 3 vezes cara\n",
    "dbinom(x=3,size=5,prob=0.5)"
   ]
  },
  {
   "cell_type": "code",
   "execution_count": 3,
   "metadata": {},
   "outputs": [
    {
     "data": {
      "text/html": [
       "1"
      ],
      "text/latex": [
       "1"
      ],
      "text/markdown": [
       "1"
      ],
      "text/plain": [
       "[1] 1"
      ]
     },
     "metadata": {},
     "output_type": "display_data"
    }
   ],
   "source": [
    "# Ao passar por 4 dinais de transito de quatro tempos cada. Qual a propabilidade de 0,1,2,3 e 4 sinais verdes?\n",
    "pbinom(q=4,size=4,prob=0.25)"
   ]
  },
  {
   "cell_type": "code",
   "execution_count": 4,
   "metadata": {},
   "outputs": [
    {
     "data": {
      "text/html": [
       "0.05078125"
      ],
      "text/latex": [
       "0.05078125"
      ],
      "text/markdown": [
       "0.05078125"
      ],
      "text/plain": [
       "[1] 0.05078125"
      ]
     },
     "metadata": {},
     "output_type": "display_data"
    }
   ],
   "source": [
    "# Probabilidade de 3 ou mais sinais verdes?\n",
    "pbinom(q=2,size=4,prob=0.25, lower.tail = F) # lower.tail = F pega os maiores que"
   ]
  },
  {
   "cell_type": "code",
   "execution_count": 5,
   "metadata": {},
   "outputs": [
    {
     "data": {
      "text/html": [
       "0.05078125"
      ],
      "text/latex": [
       "0.05078125"
      ],
      "text/markdown": [
       "0.05078125"
      ],
      "text/plain": [
       "[1] 0.05078125"
      ]
     },
     "metadata": {},
     "output_type": "display_data"
    }
   ],
   "source": [
    "dbinom(x=3,size=4,prob=0.25) + dbinom(x=4,size=4,prob=0.25)"
   ]
  },
  {
   "cell_type": "code",
   "execution_count": null,
   "metadata": {},
   "outputs": [],
   "source": []
  }
 ],
 "metadata": {
  "kernelspec": {
   "display_name": "R",
   "language": "R",
   "name": "ir"
  },
  "language_info": {
   "codemirror_mode": "r",
   "file_extension": ".r",
   "mimetype": "text/x-r-source",
   "name": "R",
   "pygments_lexer": "r",
   "version": "3.6.1"
  }
 },
 "nbformat": 4,
 "nbformat_minor": 4
}
