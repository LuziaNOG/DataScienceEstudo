{
 "cells": [
  {
   "cell_type": "code",
   "execution_count": 1,
   "metadata": {},
   "outputs": [
    {
     "data": {
      "text/html": [
       "<table>\n",
       "<thead><tr><th scope=col>CANDIDATO</th><th scope=col>SITUACAO</th><th scope=col>DESPESAS</th></tr></thead>\n",
       "<tbody>\n",
       "\t<tr><td>George Turner    </td><td>0                </td><td>  10             </td></tr>\n",
       "\t<tr><td>Victor Johnson   </td><td>0                </td><td> 100             </td></tr>\n",
       "\t<tr><td>Jerry Perry      </td><td>1                </td><td>1600             </td></tr>\n",
       "\t<tr><td>Shirley Cook     </td><td>1                </td><td>1500             </td></tr>\n",
       "\t<tr><td>Carolyn Bailey   </td><td>1                </td><td>3300             </td></tr>\n",
       "\t<tr><td>Susan Sanders    </td><td>0                </td><td> 200             </td></tr>\n",
       "\t<tr><td>Anthony Harris   </td><td>1                </td><td>1800             </td></tr>\n",
       "\t<tr><td>Philip Richardson</td><td>1                </td><td>1700             </td></tr>\n",
       "\t<tr><td>Eugene Phillips  </td><td>0                </td><td> 300             </td></tr>\n",
       "\t<tr><td>Mildred Morris   </td><td>1                </td><td>1800             </td></tr>\n",
       "\t<tr><td>Richard Jones    </td><td>0                </td><td> 100             </td></tr>\n",
       "\t<tr><td>Joan Hernandez   </td><td>0                </td><td> 500             </td></tr>\n",
       "\t<tr><td>Lawrence Mitchell</td><td>1                </td><td>3000             </td></tr>\n",
       "\t<tr><td>Annie Brooks     </td><td>0                </td><td>  20             </td></tr>\n",
       "\t<tr><td>Stephen Simmons  </td><td>0                </td><td> 200             </td></tr>\n",
       "\t<tr><td>Samuel Russell   </td><td>1                </td><td> 700             </td></tr>\n",
       "\t<tr><td>Jason Brown      </td><td>1                </td><td>1600             </td></tr>\n",
       "\t<tr><td>Bobby Gonzalez   </td><td>1                </td><td>1900             </td></tr>\n",
       "\t<tr><td>Steven Coleman   </td><td>0                </td><td> 100             </td></tr>\n",
       "\t<tr><td>Benjamin Ramirez </td><td>0                </td><td> 400             </td></tr>\n",
       "\t<tr><td> Pamela Bryant   </td><td>1                </td><td>2700             </td></tr>\n",
       "\t<tr><td>Billy Perez      </td><td>0                </td><td> 200             </td></tr>\n",
       "\t<tr><td>Julia Watson     </td><td>0                </td><td> 300             </td></tr>\n",
       "\t<tr><td>Laura Butler     </td><td>0                </td><td> 500             </td></tr>\n",
       "\t<tr><td> Gary Peterson   </td><td>1                </td><td>2500             </td></tr>\n",
       "\t<tr><td>Carl Lewis       </td><td>1                </td><td>1400             </td></tr>\n",
       "\t<tr><td>Virginia Scott   </td><td>0                </td><td> 700             </td></tr>\n",
       "\t<tr><td>Eric Alexander   </td><td>1                </td><td>1700             </td></tr>\n",
       "\t<tr><td>Jane Rodriguez   </td><td>1                </td><td>1400             </td></tr>\n",
       "\t<tr><td>Terry Smith      </td><td>1                </td><td>1600             </td></tr>\n",
       "\t<tr><td>Donald Campbell  </td><td>0                </td><td> 400             </td></tr>\n",
       "\t<tr><td>Helen Young      </td><td>0                </td><td> 200             </td></tr>\n",
       "\t<tr><td>Dorothy Bennett  </td><td>1                </td><td>1600             </td></tr>\n",
       "\t<tr><td>Stephanie Baker  </td><td>1                </td><td>2200             </td></tr>\n",
       "\t<tr><td>Joseph Gray      </td><td>1                </td><td>1900             </td></tr>\n",
       "\t<tr><td>Beverly King     </td><td>0                </td><td> 200             </td></tr>\n",
       "\t<tr><td>Lori Collins     </td><td>0                </td><td>1200             </td></tr>\n",
       "\t<tr><td>Diana Moore      </td><td>1                </td><td>1700             </td></tr>\n",
       "\t<tr><td>Diane Davis      </td><td>1                </td><td>1500             </td></tr>\n",
       "\t<tr><td>Timothy Reed     </td><td>1                </td><td>2100             </td></tr>\n",
       "\t<tr><td>Andrea Washington</td><td>0                </td><td> 400             </td></tr>\n",
       "\t<tr><td>Nicholas Garcia  </td><td>0                </td><td> 800             </td></tr>\n",
       "\t<tr><td>Barbara White    </td><td>0                </td><td> 400             </td></tr>\n",
       "\t<tr><td>Mark Hall        </td><td>1                </td><td> 500             </td></tr>\n",
       "\t<tr><td>Katherine Price  </td><td>0                </td><td>1000             </td></tr>\n",
       "\t<tr><td>Linda Long       </td><td>0                </td><td> 300             </td></tr>\n",
       "\t<tr><td>Harry Anderson   </td><td>1                </td><td> 800             </td></tr>\n",
       "</tbody>\n",
       "</table>\n"
      ],
      "text/latex": [
       "\\begin{tabular}{r|lll}\n",
       " CANDIDATO & SITUACAO & DESPESAS\\\\\n",
       "\\hline\n",
       "\t George Turner     & 0                 &   10             \\\\\n",
       "\t Victor Johnson    & 0                 &  100             \\\\\n",
       "\t Jerry Perry       & 1                 & 1600             \\\\\n",
       "\t Shirley Cook      & 1                 & 1500             \\\\\n",
       "\t Carolyn Bailey    & 1                 & 3300             \\\\\n",
       "\t Susan Sanders     & 0                 &  200             \\\\\n",
       "\t Anthony Harris    & 1                 & 1800             \\\\\n",
       "\t Philip Richardson & 1                 & 1700             \\\\\n",
       "\t Eugene Phillips   & 0                 &  300             \\\\\n",
       "\t Mildred Morris    & 1                 & 1800             \\\\\n",
       "\t Richard Jones     & 0                 &  100             \\\\\n",
       "\t Joan Hernandez    & 0                 &  500             \\\\\n",
       "\t Lawrence Mitchell & 1                 & 3000             \\\\\n",
       "\t Annie Brooks      & 0                 &   20             \\\\\n",
       "\t Stephen Simmons   & 0                 &  200             \\\\\n",
       "\t Samuel Russell    & 1                 &  700             \\\\\n",
       "\t Jason Brown       & 1                 & 1600             \\\\\n",
       "\t Bobby Gonzalez    & 1                 & 1900             \\\\\n",
       "\t Steven Coleman    & 0                 &  100             \\\\\n",
       "\t Benjamin Ramirez  & 0                 &  400             \\\\\n",
       "\t  Pamela Bryant    & 1                 & 2700             \\\\\n",
       "\t Billy Perez       & 0                 &  200             \\\\\n",
       "\t Julia Watson      & 0                 &  300             \\\\\n",
       "\t Laura Butler      & 0                 &  500             \\\\\n",
       "\t  Gary Peterson    & 1                 & 2500             \\\\\n",
       "\t Carl Lewis        & 1                 & 1400             \\\\\n",
       "\t Virginia Scott    & 0                 &  700             \\\\\n",
       "\t Eric Alexander    & 1                 & 1700             \\\\\n",
       "\t Jane Rodriguez    & 1                 & 1400             \\\\\n",
       "\t Terry Smith       & 1                 & 1600             \\\\\n",
       "\t Donald Campbell   & 0                 &  400             \\\\\n",
       "\t Helen Young       & 0                 &  200             \\\\\n",
       "\t Dorothy Bennett   & 1                 & 1600             \\\\\n",
       "\t Stephanie Baker   & 1                 & 2200             \\\\\n",
       "\t Joseph Gray       & 1                 & 1900             \\\\\n",
       "\t Beverly King      & 0                 &  200             \\\\\n",
       "\t Lori Collins      & 0                 & 1200             \\\\\n",
       "\t Diana Moore       & 1                 & 1700             \\\\\n",
       "\t Diane Davis       & 1                 & 1500             \\\\\n",
       "\t Timothy Reed      & 1                 & 2100             \\\\\n",
       "\t Andrea Washington & 0                 &  400             \\\\\n",
       "\t Nicholas Garcia   & 0                 &  800             \\\\\n",
       "\t Barbara White     & 0                 &  400             \\\\\n",
       "\t Mark Hall         & 1                 &  500             \\\\\n",
       "\t Katherine Price   & 0                 & 1000             \\\\\n",
       "\t Linda Long        & 0                 &  300             \\\\\n",
       "\t Harry Anderson    & 1                 &  800             \\\\\n",
       "\\end{tabular}\n"
      ],
      "text/markdown": [
       "\n",
       "| CANDIDATO | SITUACAO | DESPESAS |\n",
       "|---|---|---|\n",
       "| George Turner     | 0                 |   10              |\n",
       "| Victor Johnson    | 0                 |  100              |\n",
       "| Jerry Perry       | 1                 | 1600              |\n",
       "| Shirley Cook      | 1                 | 1500              |\n",
       "| Carolyn Bailey    | 1                 | 3300              |\n",
       "| Susan Sanders     | 0                 |  200              |\n",
       "| Anthony Harris    | 1                 | 1800              |\n",
       "| Philip Richardson | 1                 | 1700              |\n",
       "| Eugene Phillips   | 0                 |  300              |\n",
       "| Mildred Morris    | 1                 | 1800              |\n",
       "| Richard Jones     | 0                 |  100              |\n",
       "| Joan Hernandez    | 0                 |  500              |\n",
       "| Lawrence Mitchell | 1                 | 3000              |\n",
       "| Annie Brooks      | 0                 |   20              |\n",
       "| Stephen Simmons   | 0                 |  200              |\n",
       "| Samuel Russell    | 1                 |  700              |\n",
       "| Jason Brown       | 1                 | 1600              |\n",
       "| Bobby Gonzalez    | 1                 | 1900              |\n",
       "| Steven Coleman    | 0                 |  100              |\n",
       "| Benjamin Ramirez  | 0                 |  400              |\n",
       "|  Pamela Bryant    | 1                 | 2700              |\n",
       "| Billy Perez       | 0                 |  200              |\n",
       "| Julia Watson      | 0                 |  300              |\n",
       "| Laura Butler      | 0                 |  500              |\n",
       "|  Gary Peterson    | 1                 | 2500              |\n",
       "| Carl Lewis        | 1                 | 1400              |\n",
       "| Virginia Scott    | 0                 |  700              |\n",
       "| Eric Alexander    | 1                 | 1700              |\n",
       "| Jane Rodriguez    | 1                 | 1400              |\n",
       "| Terry Smith       | 1                 | 1600              |\n",
       "| Donald Campbell   | 0                 |  400              |\n",
       "| Helen Young       | 0                 |  200              |\n",
       "| Dorothy Bennett   | 1                 | 1600              |\n",
       "| Stephanie Baker   | 1                 | 2200              |\n",
       "| Joseph Gray       | 1                 | 1900              |\n",
       "| Beverly King      | 0                 |  200              |\n",
       "| Lori Collins      | 0                 | 1200              |\n",
       "| Diana Moore       | 1                 | 1700              |\n",
       "| Diane Davis       | 1                 | 1500              |\n",
       "| Timothy Reed      | 1                 | 2100              |\n",
       "| Andrea Washington | 0                 |  400              |\n",
       "| Nicholas Garcia   | 0                 |  800              |\n",
       "| Barbara White     | 0                 |  400              |\n",
       "| Mark Hall         | 1                 |  500              |\n",
       "| Katherine Price   | 0                 | 1000              |\n",
       "| Linda Long        | 0                 |  300              |\n",
       "| Harry Anderson    | 1                 |  800              |\n",
       "\n"
      ],
      "text/plain": [
       "   CANDIDATO         SITUACAO DESPESAS\n",
       "1  George Turner     0          10    \n",
       "2  Victor Johnson    0         100    \n",
       "3  Jerry Perry       1        1600    \n",
       "4  Shirley Cook      1        1500    \n",
       "5  Carolyn Bailey    1        3300    \n",
       "6  Susan Sanders     0         200    \n",
       "7  Anthony Harris    1        1800    \n",
       "8  Philip Richardson 1        1700    \n",
       "9  Eugene Phillips   0         300    \n",
       "10 Mildred Morris    1        1800    \n",
       "11 Richard Jones     0         100    \n",
       "12 Joan Hernandez    0         500    \n",
       "13 Lawrence Mitchell 1        3000    \n",
       "14 Annie Brooks      0          20    \n",
       "15 Stephen Simmons   0         200    \n",
       "16 Samuel Russell    1         700    \n",
       "17 Jason Brown       1        1600    \n",
       "18 Bobby Gonzalez    1        1900    \n",
       "19 Steven Coleman    0         100    \n",
       "20 Benjamin Ramirez  0         400    \n",
       "21  Pamela Bryant    1        2700    \n",
       "22 Billy Perez       0         200    \n",
       "23 Julia Watson      0         300    \n",
       "24 Laura Butler      0         500    \n",
       "25  Gary Peterson    1        2500    \n",
       "26 Carl Lewis        1        1400    \n",
       "27 Virginia Scott    0         700    \n",
       "28 Eric Alexander    1        1700    \n",
       "29 Jane Rodriguez    1        1400    \n",
       "30 Terry Smith       1        1600    \n",
       "31 Donald Campbell   0         400    \n",
       "32 Helen Young       0         200    \n",
       "33 Dorothy Bennett   1        1600    \n",
       "34 Stephanie Baker   1        2200    \n",
       "35 Joseph Gray       1        1900    \n",
       "36 Beverly King      0         200    \n",
       "37 Lori Collins      0        1200    \n",
       "38 Diana Moore       1        1700    \n",
       "39 Diane Davis       1        1500    \n",
       "40 Timothy Reed      1        2100    \n",
       "41 Andrea Washington 0         400    \n",
       "42 Nicholas Garcia   0         800    \n",
       "43 Barbara White     0         400    \n",
       "44 Mark Hall         1         500    \n",
       "45 Katherine Price   0        1000    \n",
       "46 Linda Long        0         300    \n",
       "47 Harry Anderson    1         800    "
      ]
     },
     "metadata": {},
     "output_type": "display_data"
    }
   ],
   "source": [
    "eleicao = read.csv(\"../dataset/Eleicao.csv\",sep=\";\", header=T)\n",
    "eleicao"
   ]
  },
  {
   "cell_type": "code",
   "execution_count": 2,
   "metadata": {},
   "outputs": [
    {
     "data": {
      "image/png": "[encoded data removed]",
      "text/plain": [
       "plot without title"
      ]
     },
     "metadata": {},
     "output_type": "display_data"
    }
   ],
   "source": [
    "plot(DESPESAS ~ SITUACAO, data=eleicao)"
   ]
  },
  {
   "cell_type": "code",
   "execution_count": 5,
   "metadata": {},
   "outputs": [
    {
     "data": {
      "text/html": [
       "0,812187165576407"
      ],
      "text/latex": [
       "0,812187165576407"
      ],
      "text/markdown": [
       "0,812187165576407"
      ],
      "text/plain": [
       "[1] 0,8121872"
      ]
     },
     "metadata": {},
     "output_type": "display_data"
    }
   ],
   "source": [
    "cor(eleicao$DESPESAS,eleicao$SITUACAO) # correlação"
   ]
  },
  {
   "cell_type": "code",
   "execution_count": 8,
   "metadata": {},
   "outputs": [
    {
     "data": {
      "text/plain": [
       "\n",
       "Call:  glm(formula = SITUACAO ~ DESPESAS, family = \"binomial\", data = eleicao)\n",
       "\n",
       "Coefficients:\n",
       "(Intercept)     DESPESAS  \n",
       "  -4,602880     0,004984  \n",
       "\n",
       "Degrees of Freedom: 46 Total (i.e. Null);  45 Residual\n",
       "Null Deviance:\t    65,13 \n",
       "Residual Deviance: 18,54 \tAIC: 22,54"
      ]
     },
     "metadata": {},
     "output_type": "display_data"
    }
   ],
   "source": [
    "modelo = glm(SITUACAO ~ DESPESAS, data= eleicao, family=\"binomial\") # family que fala que é logistica\n",
    "modelo"
   ]
  },
  {
   "cell_type": "code",
   "execution_count": 10,
   "metadata": {},
   "outputs": [
    {
     "data": {
      "image/png": "[encoded data removed]",
      "text/plain": [
       "plot without title"
      ]
     },
     "metadata": {},
     "output_type": "display_data"
    }
   ],
   "source": [
    "plot(eleicao$DESPESAS,eleicao$SITUACAO, col = \"red\", pch=20) # dados do dataset\n",
    "points(eleicao$DESPESAS, modelo$fitted, pch=4) # linha de melhor ajuste do modelo"
   ]
  },
  {
   "cell_type": "code",
   "execution_count": 13,
   "metadata": {},
   "outputs": [
    {
     "data": {
      "text/html": [
       "<dl class=dl-horizontal>\n",
       "\t<dt>1</dt>\n",
       "\t\t<dd>0,0104252614024675</dd>\n",
       "\t<dt>2</dt>\n",
       "\t\t<dd>0,0162302575773874</dd>\n",
       "\t<dt>3</dt>\n",
       "\t\t<dd>0,966784724685086</dd>\n",
       "\t<dt>4</dt>\n",
       "\t\t<dd>0,946475247380095</dd>\n",
       "\t<dt>5</dt>\n",
       "\t\t<dd>0,999992812624742</dd>\n",
       "</dl>\n"
      ],
      "text/latex": [
       "\\begin{description*}\n",
       "\\item[1] 0,0104252614024675\n",
       "\\item[2] 0,0162302575773874\n",
       "\\item[3] 0,966784724685086\n",
       "\\item[4] 0,946475247380095\n",
       "\\item[5] 0,999992812624742\n",
       "\\end{description*}\n"
      ],
      "text/markdown": [
       "1\n",
       ":   0,01042526140246752\n",
       ":   0,01623025757738743\n",
       ":   0,9667847246850864\n",
       ":   0,9464752473800955\n",
       ":   0,999992812624742\n",
       "\n"
      ],
      "text/plain": [
       "         1          2          3          4          5 \n",
       "0,01042526 0,01623026 0,96678472 0,94647525 0,99999281 "
      ]
     },
     "metadata": {},
     "output_type": "display_data"
    }
   ],
   "source": [
    "# Testando com os mesmos candidados (O certo é dividir os dados, mas depois vou usar novos dados)\n",
    "previsao = predict(modelo, newdata = eleicao, type=\"response\")\n",
    "previsao[0:5] # gera em propabilidade"
   ]
  },
  {
   "cell_type": "code",
   "execution_count": 15,
   "metadata": {},
   "outputs": [
    {
     "data": {
      "text/html": [
       "<dl class=dl-horizontal>\n",
       "\t<dt>1</dt>\n",
       "\t\t<dd>FALSE</dd>\n",
       "\t<dt>2</dt>\n",
       "\t\t<dd>FALSE</dd>\n",
       "\t<dt>3</dt>\n",
       "\t\t<dd>TRUE</dd>\n",
       "\t<dt>4</dt>\n",
       "\t\t<dd>TRUE</dd>\n",
       "\t<dt>5</dt>\n",
       "\t\t<dd>TRUE</dd>\n",
       "</dl>\n"
      ],
      "text/latex": [
       "\\begin{description*}\n",
       "\\item[1] FALSE\n",
       "\\item[2] FALSE\n",
       "\\item[3] TRUE\n",
       "\\item[4] TRUE\n",
       "\\item[5] TRUE\n",
       "\\end{description*}\n"
      ],
      "text/markdown": [
       "1\n",
       ":   FALSE2\n",
       ":   FALSE3\n",
       ":   TRUE4\n",
       ":   TRUE5\n",
       ":   TRUE\n",
       "\n"
      ],
      "text/plain": [
       "    1     2     3     4     5 \n",
       "FALSE FALSE  TRUE  TRUE  TRUE "
      ]
     },
     "metadata": {},
     "output_type": "display_data"
    }
   ],
   "source": [
    "previsao = previsao >= 0.5 # transformar em true e false\n",
    "previsao[0:5]"
   ]
  },
  {
   "cell_type": "code",
   "execution_count": 17,
   "metadata": {},
   "outputs": [
    {
     "data": {
      "text/plain": [
       "        \n",
       "previsao  0  1\n",
       "   FALSE 21  3\n",
       "   TRUE   2 21"
      ]
     },
     "metadata": {},
     "output_type": "display_data"
    }
   ],
   "source": [
    "# comparar com matriz de confusão os dados\n",
    "matrix_conf = table(previsao, eleicao$SITUACAO)\n",
    "matrix_conf  # TP | FP\n",
    "             # FN | TN  "
   ]
  },
  {
   "cell_type": "code",
   "execution_count": 21,
   "metadata": {},
   "outputs": [
    {
     "data": {
      "text/html": [
       "0,893617021276596"
      ],
      "text/latex": [
       "0,893617021276596"
      ],
      "text/markdown": [
       "0,893617021276596"
      ],
      "text/plain": [
       "[1] 0,893617"
      ]
     },
     "metadata": {},
     "output_type": "display_data"
    }
   ],
   "source": [
    "taxa_acerto=(matrix_conf[1]+matrix_conf[4])/sum(matrix_conf)\n",
    "taxa_acerto # soma dos acertos divididos pelo total de dados"
   ]
  },
  {
   "cell_type": "markdown",
   "metadata": {},
   "source": [
    "# Novos Candidatos"
   ]
  },
  {
   "cell_type": "code",
   "execution_count": 23,
   "metadata": {},
   "outputs": [
    {
     "data": {
      "text/html": [
       "<table>\n",
       "<thead><tr><th scope=col>CANDIDATO</th><th scope=col>DESPESAS</th></tr></thead>\n",
       "<tbody>\n",
       "\t<tr><td>A   </td><td>   0</td></tr>\n",
       "\t<tr><td>B   </td><td>  10</td></tr>\n",
       "\t<tr><td>C   </td><td> 200</td></tr>\n",
       "\t<tr><td>D   </td><td> 500</td></tr>\n",
       "\t<tr><td>E   </td><td> 900</td></tr>\n",
       "\t<tr><td>F   </td><td>1500</td></tr>\n",
       "\t<tr><td>G   </td><td>3000</td></tr>\n",
       "</tbody>\n",
       "</table>\n"
      ],
      "text/latex": [
       "\\begin{tabular}{r|ll}\n",
       " CANDIDATO & DESPESAS\\\\\n",
       "\\hline\n",
       "\t A    &    0\\\\\n",
       "\t B    &   10\\\\\n",
       "\t C    &  200\\\\\n",
       "\t D    &  500\\\\\n",
       "\t E    &  900\\\\\n",
       "\t F    & 1500\\\\\n",
       "\t G    & 3000\\\\\n",
       "\\end{tabular}\n"
      ],
      "text/markdown": [
       "\n",
       "| CANDIDATO | DESPESAS |\n",
       "|---|---|\n",
       "| A    |    0 |\n",
       "| B    |   10 |\n",
       "| C    |  200 |\n",
       "| D    |  500 |\n",
       "| E    |  900 |\n",
       "| F    | 1500 |\n",
       "| G    | 3000 |\n",
       "\n"
      ],
      "text/plain": [
       "  CANDIDATO DESPESAS\n",
       "1 A            0    \n",
       "2 B           10    \n",
       "3 C          200    \n",
       "4 D          500    \n",
       "5 E          900    \n",
       "6 F         1500    \n",
       "7 G         3000    "
      ]
     },
     "metadata": {},
     "output_type": "display_data"
    }
   ],
   "source": [
    "nova_eleicao = read.csv(\"../dataset/NovosCandidatos.csv\", sep = \";\", header = T)\n",
    "nova_eleicao"
   ]
  },
  {
   "cell_type": "code",
   "execution_count": 27,
   "metadata": {},
   "outputs": [
    {
     "data": {
      "text/html": [
       "<ol class=list-inline>\n",
       "\t<li>0,00992346602509472</li>\n",
       "\t<li>0,0104252614024675</li>\n",
       "\t<li>0,0264382547697668</li>\n",
       "\t<li>0,10802714867848</li>\n",
       "\t<li>0,470635920860994</li>\n",
       "\t<li>0,946475247380095</li>\n",
       "\t<li>0,999967946790996</li>\n",
       "</ol>\n"
      ],
      "text/latex": [
       "\\begin{enumerate*}\n",
       "\\item 0,00992346602509472\n",
       "\\item 0,0104252614024675\n",
       "\\item 0,0264382547697668\n",
       "\\item 0,10802714867848\n",
       "\\item 0,470635920860994\n",
       "\\item 0,946475247380095\n",
       "\\item 0,999967946790996\n",
       "\\end{enumerate*}\n"
      ],
      "text/markdown": [
       "1. 0,00992346602509472\n",
       "2. 0,0104252614024675\n",
       "3. 0,0264382547697668\n",
       "4. 0,10802714867848\n",
       "5. 0,470635920860994\n",
       "6. 0,946475247380095\n",
       "7. 0,999967946790996\n",
       "\n",
       "\n"
      ],
      "text/plain": [
       "[1] 0,009923466 0,010425261 0,026438255 0,108027149 0,470635921 0,946475247\n",
       "[7] 0,999967947"
      ]
     },
     "metadata": {},
     "output_type": "display_data"
    }
   ],
   "source": [
    "nova_eleicao$RESULTADO = predict(modelo, newdata = nova_eleicao, type = \"response\")\n",
    "nova_eleicao$RESULTADO # em propabilidade\n",
    "nova_eleicao$RESULTADO = nova_eleicao$RESULTADO >= 0.5 # convertido para true e false"
   ]
  },
  {
   "cell_type": "code",
   "execution_count": 29,
   "metadata": {},
   "outputs": [
    {
     "data": {
      "text/html": [
       "<table>\n",
       "<thead><tr><th scope=col>CANDIDATO</th><th scope=col>DESPESAS</th><th scope=col>RESULTADO</th></tr></thead>\n",
       "<tbody>\n",
       "\t<tr><td>A    </td><td>   0 </td><td>FALSE</td></tr>\n",
       "\t<tr><td>B    </td><td>  10 </td><td>FALSE</td></tr>\n",
       "\t<tr><td>C    </td><td> 200 </td><td>FALSE</td></tr>\n",
       "\t<tr><td>D    </td><td> 500 </td><td>FALSE</td></tr>\n",
       "\t<tr><td>E    </td><td> 900 </td><td>FALSE</td></tr>\n",
       "\t<tr><td>F    </td><td>1500 </td><td> TRUE</td></tr>\n",
       "\t<tr><td>G    </td><td>3000 </td><td> TRUE</td></tr>\n",
       "</tbody>\n",
       "</table>\n"
      ],
      "text/latex": [
       "\\begin{tabular}{r|lll}\n",
       " CANDIDATO & DESPESAS & RESULTADO\\\\\n",
       "\\hline\n",
       "\t A     &    0  & FALSE\\\\\n",
       "\t B     &   10  & FALSE\\\\\n",
       "\t C     &  200  & FALSE\\\\\n",
       "\t D     &  500  & FALSE\\\\\n",
       "\t E     &  900  & FALSE\\\\\n",
       "\t F     & 1500  &  TRUE\\\\\n",
       "\t G     & 3000  &  TRUE\\\\\n",
       "\\end{tabular}\n"
      ],
      "text/markdown": [
       "\n",
       "| CANDIDATO | DESPESAS | RESULTADO |\n",
       "|---|---|---|\n",
       "| A     |    0  | FALSE |\n",
       "| B     |   10  | FALSE |\n",
       "| C     |  200  | FALSE |\n",
       "| D     |  500  | FALSE |\n",
       "| E     |  900  | FALSE |\n",
       "| F     | 1500  |  TRUE |\n",
       "| G     | 3000  |  TRUE |\n",
       "\n"
      ],
      "text/plain": [
       "  CANDIDATO DESPESAS RESULTADO\n",
       "1 A            0     FALSE    \n",
       "2 B           10     FALSE    \n",
       "3 C          200     FALSE    \n",
       "4 D          500     FALSE    \n",
       "5 E          900     FALSE    \n",
       "6 F         1500      TRUE    \n",
       "7 G         3000      TRUE    "
      ]
     },
     "metadata": {},
     "output_type": "display_data"
    }
   ],
   "source": [
    " nova_eleicao # dados com nova coluna com o resultado"
   ]
  },
  {
   "cell_type": "markdown",
   "metadata": {},
   "source": [
    "# obs: fazer sempre copia do dataset para nao perder os dados originais."
   ]
  },
  {
   "cell_type": "code",
   "execution_count": null,
   "metadata": {},
   "outputs": [],
   "source": []
  }
 ],
 "metadata": {
  "kernelspec": {
   "display_name": "R",
   "language": "R",
   "name": "ir"
  },
  "language_info": {
   "codemirror_mode": "r",
   "file_extension": ".r",
   "mimetype": "text/x-r-source",
   "name": "R",
   "pygments_lexer": "r",
   "version": "3.6.1"
  }
 },
 "nbformat": 4,
 "nbformat_minor": 4
}
